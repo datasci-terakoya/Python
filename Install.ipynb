{
 "cells": [
  {
   "cell_type": "markdown",
   "id": "3d604bf3",
   "metadata": {},
   "source": [
    "<p style=\"text-align:center\">\n",
    "<b>データサイエンス寺子屋</b>\n",
    "\n",
    "<img src=\"https://github.com/datasci-terakoya/Python/blob/main/images/logo3_transparent_1100x750.png?raw=true\" alt=\"Terakoya logo\" width=\"400\">\n",
    "</p>\n",
    "\n",
    "<h1 style=\"text-align:center\">Python入門</h1>\n",
    "\n",
    "<h4 style=\"text-align:center\"> Pythonのインストール </h4>\n",
    "<hr style=\"height:5px;border:none\" />\n",
    "<p>"
   ]
  },
  {
   "cell_type": "markdown",
   "id": "f9574922",
   "metadata": {},
   "source": [
    "# Pythonとは\n",
    "<hr style=\"height:1px;border:none\" />"
   ]
  },
  {
   "cell_type": "markdown",
   "id": "8780a70f",
   "metadata": {},
   "source": [
    "Pythonはプログラミング言語です。汎用性の高い言語で様々な分野で使われています。データサイエンスの分野でも多く使われています。特徴として\n",
    "\n",
    "- **無料である**\n",
    "- **ライブラリが豊富である**\n",
    "- **互換性に優れる** Pythonのプログラムは必要なライブラリさえあれば、MacやWindowsなどの環境を問わず実行できます。\n",
    "- **読みやすい** インデントを用いることで、他のプログラミング言語と比べると読みやすいプログラムを作成できます。\n",
    "\n",
    "その他の特徴はいくつもあるのですが、あとはこのコースの中でいろいろ紹介していきます。"
   ]
  },
  {
   "cell_type": "markdown",
   "id": "7a43343f",
   "metadata": {},
   "source": [
    "# Pythonをインストールする\n",
    "<hr style=\"height:1px;border:none\" />"
   ]
  },
  {
   "cell_type": "markdown",
   "id": "bf2d1f42",
   "metadata": {},
   "source": [
    "Pythonに限らずいかなるプログラム言語での開発作業にはプログラムを書くエディター、そしてPythonを実行するシェルが必要不可欠です。エディタとシェル、そしてその他のツールをひとまとめにしたものをIDE（Integrated Development Environment、又は統合開発環境）といいます。Python用のIDEは有料、無料のものが多数あるのですが、筆者がお勧めするのはIDLE（Integrated Development and Learning Environment）です。IDLEはPythonの公式サイトから無料でダウンロードそしてインストールが可能です。"
   ]
  },
  {
   "cell_type": "markdown",
   "id": "175ebf89",
   "metadata": {},
   "source": [
    "## Python IDLEをダウンロード\n",
    "Pythonの公式サイト (https://www.python.org/) から**Download**にある最新バージョンをクリック。\n",
    "\n",
    "<p style=\"text-align:center\">\n",
    "<img src=\"https://github.com/datasci-terakoya/Python/blob/main/images/Python_Install_PythonSite.png?raw=true\" alt=\"Python.org\" style=\"width: 600px;\"/>\n",
    "<i>Pythonサイトからダウンロードへ</i>\n",
    "</p>\n",
    "<p>\n",
    "\n",
    "すると、最新バージョンのページに移動します。\n",
    "\n",
    "<p style=\"text-align:center\">\n",
    "<img src=\"https://github.com/datasci-terakoya/Python/blob/main/images/Python_Install_VersionLanding.png?raw=true\" alt=\"Python.org\" style=\"width: 600px;\"/>\n",
    "<i>最新バージョンのページ</i>\n",
    "</p>\n",
    "<p>\n",
    "\n",
    "ここでページの最後の方までスクロールすると、インストールのファイルのリストに行きあたります。\n",
    "\n",
    "<p style=\"text-align:center\">\n",
    "<img src=\"https://github.com/datasci-terakoya/Python/blob/main/images/Python_Install_FileList.png?raw=true\" alt=\"Python.org\" style=\"width: 600px;\"/>\n",
    "<i>インストールファイルのリスト</i>\n",
    "</p>\n",
    "<p>\n",
    "\n",
    "ここで使用しているシステムに合ったインストーラーをダウンロードします。もしmacOSを使っている場合、搭載されているCPUによって（IntelのCPUとMacのM1(Apple Silicon)）インストーラーが違うのでシステムに合ったものをダウンロードしてください。Windowsの場合は大抵の場合64-bit版で大丈夫です。ちなみに筆者のようにLinuxをお使いの方は、ディストリビューションによってインストールの仕方が異なるので注意が必要です。詳細はPythonのホームページからお確かめください。"
   ]
  },
  {
   "cell_type": "markdown",
   "id": "68a2ba42",
   "metadata": {},
   "source": [
    "## Pythonをインストールする\n",
    "\n",
    "ダウンロードができたら次はインストール。これはダウンロードされたインストーラーを実行することによって簡単にできます。アカウトの設定次第で、管理者のパスワードを入力しなければならないかもしれません。\n",
    "\n",
    "インストールが完了したら確認のため、早速Pythonを立ち上げてみましょう。Windowsの場合はスタートメニューからPython IDLEを選択。macOSの場合はインストールされたPythonのフォルダーからIDLEを起動します。このようなウインドウが表示されたら、インストールがうまくいきました。IDLEの使い方はまた別の講義で後日学びます。\n",
    "\n",
    "<p style=\"text-align:center\">\n",
    "<img src=\"https://github.com/datasci-terakoya/Python/blob/main/images/Python_Install_IDLE.png?raw=true\" alt=\"Python.org\" style=\"width: 500px;\"/>\n",
    "<i>Python IDLE起動時のスクリーン</i>\n",
    "</p>\n",
    "<p>\n"
   ]
  },
  {
   "cell_type": "markdown",
   "id": "5cae79e0",
   "metadata": {},
   "source": [
    "## ライブラリのインストール\n",
    "\n",
    "さてPythonをインストール出来たのですが、データサイエンスでPythonを使う場合、その他に幾つかのライブラリもインストールする必要があります。ライブラリとはある特殊な用途で使うプログラムをまとめた、言ってみれば特別機能専用の道具箱です。データサイエンスの分野では下記のようなライブラリが多用されます。\n",
    "   - NumPy: 数値データ関連の機能を持ち合わせたライブラリです。\n",
    "   - SciPy: 多数の科学的な計算および分析機能を備えたPythonライブラリです。 \n",
    "   - Matplotlib: グラフとプロットを作成するための数々の関数が含まれています。\n",
    "   - Pandas: データをデータフレームとして整理する為のライブラリです。\n",
    "   - Scikit-learn: 多数の機械学習ツールのライブラリです。\n",
    "\n",
    "その他、これらのライブラリもおすすめします。\n",
    "   - IPython: ユーザーフレンドリーなPythonシェルです。\n",
    "   - Jupyter Notebook: Pythonと普通の文章を一つの文書にまとめて、文書内でPythonを実行できる対話型のIDEの一つです。詳しくはまた別の講義で使用例を紹介します。\n",
    "\n",
    "これらのライブラリやそのたのPythonのライブラリのインストールはコマンドラインから行うのが一番手っ取り早い方法です。Windowsの場合はPowerShellを、macOSの場合はターミナルを起動してください。その際、管理者として実行する必要があるのでご注意ください。そしてこのコマンドを入力します。\n",
    "```\n",
    "pip3 install --upgrade pip\n",
    "```\n",
    "このコマンドはPythonのライブラリ管理ツールpipの更新をするために必要です。実行中に、更新状況が表示されます。それが終了すると、コマンドプロンプトが表示されます。あとは上記のライブラリを一つ一つインストールしていきます。インストールのコマンドは\n",
    "```\n",
    "pip3 install [ライブラリ名]\n",
    "```\n",
    "このなかで、`[ライブラリ名`]はライブラリの名前です（下記参照）\n",
    "   - NumPy: `numpy`\n",
    "   - SciPy: `scipy`\n",
    "   - Matplotlib: `matplotlib`\n",
    "   - Pandas: `pandas`\n",
    "   - Scikit-learn: `scikit-learn`\n",
    "   - IPython: `ipython`\n",
    "   - Jupyter Notebook: `jupyter`\n",
    "\n",
    "全部インストールできたらPythonをつかう準備は完了です。"
   ]
  },
  {
   "cell_type": "markdown",
   "id": "8e739f82",
   "metadata": {},
   "source": [
    "# その他のPython IDE\n",
    "<hr style=\"height:1px;border:none\" />"
   ]
  },
  {
   "cell_type": "markdown",
   "id": "08394df7",
   "metadata": {},
   "source": [
    "IDLEは数あるPythonのIDEの一つです。比較て小さくて、メモリやCPUをそんなに使わないのが長所です。でもユーザー自身がライブラリのインストールなどの環境構築をしなくてはならないのが短所です。IDLEの他にもPythonのIDEが多数あるのですが、その中で人気のあるものを幾つか紹介します。\n",
    "\n",
    "## Anaconda\n",
    "Spyderと呼ばれる素晴らしい対話型のエディタとシェルが一つになったIDEがあります。 また、すでに前もってインストールされているライブラリも多数あります。ただし、その結果、Anacondaには大きなディスク容量（2+ GB）と高速なCPUが必要です。無料でダウンロードが可能です。 \n",
    "\n",
    "[ダウンロード](https://anaconda.org/anaconda/python)\n",
    "\n",
    "<p style=\"text-align:center\">\n",
    "<img src=\"https://github.com/datasci-terakoya/Python/blob/main/images/Python_Install_AnacondaNavigator.png?raw=true\" alt=\"Python.org\" style=\"width: 600px;\"/>\n",
    "<i>Anaconda起動時のスクリーン。メニューが表示される。</i>\n",
    "</p>\n",
    "<p>\n",
    "\n",
    "<p style=\"text-align:center\">\n",
    "<img src=\"https://github.com/datasci-terakoya/Python/blob/main/images/Python_Install_Spyder.png?raw=true\" alt=\"Python.org\" style=\"width: 600px;\"/>\n",
    "<i>AnacondaのIDE、Spyderのスクリーンショット</i>\n",
    "</p>\n",
    "<p>\n",
    "\n",
    "\n",
    "## PyCharm\n",
    "PyCharmも人気のあるPythonのIDEの一つです。エディタとシェルが一つになったIDEがあります。開発者向けの有料版と、一般向けの無料版があります。\n",
    "\n",
    "[ダウンロード](https://www.jetbrains.com/pycharm/)\n",
    "\n",
    "<p style=\"text-align:center\">\n",
    "<img src=\"https://github.com/datasci-terakoya/Python/blob/main/images/Python_Install_PyCharm.png?raw=true\" alt=\"Python.org\" style=\"width: 600px;\"/>\n",
    "<i>PyCharmのIDEのスクリーンショット</i>\n",
    "</p>\n",
    "<p>\n"
   ]
  }
 ],
 "metadata": {
  "kernelspec": {
   "display_name": "Python 3 (ipykernel)",
   "language": "python",
   "name": "python3"
  },
  "language_info": {
   "codemirror_mode": {
    "name": "ipython",
    "version": 3
   },
   "file_extension": ".py",
   "mimetype": "text/x-python",
   "name": "python",
   "nbconvert_exporter": "python",
   "pygments_lexer": "ipython3",
   "version": "3.8.10"
  }
 },
 "nbformat": 4,
 "nbformat_minor": 5
}
