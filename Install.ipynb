{
 "cells": [
  {
   "cell_type": "markdown",
   "id": "3d604bf3",
   "metadata": {},
   "source": [
    "<p style=\"text-align:center\">\n",
    "<b>データサイエンス寺子屋</b>\n",
    "\n",
    "<img src=\"https://github.com/datasci-terakoya/Python/blob/main/images/logo3_transparent_1100x750.png?raw=true\" alt=\"Terakoya logo\" width=\"400\">\n",
    "</p>\n",
    "\n",
    "<h1 style=\"text-align:center\">Python入門</h1>\n",
    "\n",
    "<h4 style=\"text-align:center\"> Pythonのインストール </h4>\n",
    "<hr style=\"height:5px;border:none\" />\n",
    "<p>"
   ]
  },
  {
   "cell_type": "markdown",
   "id": "f9574922",
   "metadata": {},
   "source": [
    "# Pythonとは\n",
    "<hr style=\"height:1px;border:none\" />"
   ]
  },
  {
   "cell_type": "markdown",
   "id": "8780a70f",
   "metadata": {},
   "source": [
    "Pythonはプログラミング言語です。汎用性の高い言語で様々な分野で使われています。データサイエンスの分野でも多く使われています。特徴として\n",
    "\n",
    "- **無料である**\n",
    "- **ライブラリが豊富である**\n",
    "- **互換性に優れる** Pythonのプログラムは必要なライブラリさえあれば、MacやWindowsなどの環境を問わず実行できます。\n",
    "- **読みやすい** インデントを用いることで、他のプログラミング言語と比べると読みやすいプログラムを作成できます。\n",
    "\n",
    "その他の特徴はいくつもあるのですが、あとはこのコースの中でいろいろ紹介していきます。"
   ]
  },
  {
   "cell_type": "markdown",
   "id": "7a43343f",
   "metadata": {},
   "source": [
    "# Pythonをインストールする\n",
    "<hr style=\"height:1px;border:none\" />"
   ]
  },
  {
   "cell_type": "markdown",
   "id": "bf2d1f42",
   "metadata": {},
   "source": [
    "Pythonに限らずいかなるプログラム言語での開発作業にはプログラムを書くエディター、そしてPythonを実行するシェルが必要不可欠です。エディタとシェル、そしてその他のツールをひとまとめにしたものをIDE（Integrated Development Environment、又は統合開発環境）といいます。Python用のIDEは有料、無料のものが多数あるのですが、筆者がお勧めするのはIDLE（Integrated Development and Learning Environment）です。IDLEはPythonの公式サイトから無料でダウンロードそしてインストールが可能です。"
   ]
  },
  {
   "cell_type": "markdown",
   "id": "175ebf89",
   "metadata": {},
   "source": [
    "## Python IDLEをダウンロード\n",
    "Pythonの公式サイト (https://www.python.org/) から**Downloads**をクリック、そして該当するOS（ほとんどの場合macOSかWindows）をメニューから選択します。\n",
    "\n",
    "<p style=\"text-align:center\">\n",
    "<img src=\"https://github.com/datasci-terakoya/Python/blob/main/images/Python_Install_PythonSite.png?raw=true\" alt=\"Python.org\" style=\"width: 600px;\"/>\n",
    "<i>Pythonサイトからダウンロードへ</i>\n",
    "</p>\n",
    "<p>\n",
    "\n",
    "すると、最新バージョンのページに移動します。\n",
    "\n",
    "<p style=\"text-align:center\">\n",
    "<img src=\"https://github.com/datasci-terakoya/Python/blob/main/images/Python_Install_VersionLanding.png?raw=true\" alt=\"Python.org\" style=\"width: 600px;\"/>\n",
    "<i>最新バージョンのページ</i>\n",
    "</p>\n",
    "<p>\n",
    "\n",
    "ここでページの最後の方までスクロールすると、インストールのファイルのリストに行きあたります。\n",
    "\n",
    "<p style=\"text-align:center\">\n",
    "<img src=\"https://github.com/datasci-terakoya/Python/blob/main/images/Python_Install_FileList.png?raw=true\" alt=\"Python.org\" style=\"width: 600px;\"/>\n",
    "<i>インストールファイルのリスト</i>\n",
    "</p>\n",
    "<p>\n",
    "\n",
    "[Start from here--Specify file based on OS--Linux is special]"
   ]
  },
  {
   "cell_type": "markdown",
   "id": "08394df7",
   "metadata": {},
   "source": [
    "# Pythonをインストールする\n",
    "\n",
    "# インストールの確認\n",
    "\n",
    "# ライブラリのインストール\n",
    "\n",
    "# その他のPython環境\n",
    "\n",
    "   ## Anaconda\n",
    "   ## PyCharm\n"
   ]
  },
  {
   "cell_type": "code",
   "execution_count": null,
   "id": "4f6df004",
   "metadata": {},
   "outputs": [],
   "source": []
  }
 ],
 "metadata": {
  "kernelspec": {
   "display_name": "Python 3 (ipykernel)",
   "language": "python",
   "name": "python3"
  },
  "language_info": {
   "codemirror_mode": {
    "name": "ipython",
    "version": 3
   },
   "file_extension": ".py",
   "mimetype": "text/x-python",
   "name": "python",
   "nbconvert_exporter": "python",
   "pygments_lexer": "ipython3",
   "version": "3.8.10"
  }
 },
 "nbformat": 4,
 "nbformat_minor": 5
}
