{
 "cells": [
  {
   "cell_type": "markdown",
   "id": "46fb7081",
   "metadata": {},
   "source": [
    "<p style=\"text-align:center\">\n",
    "<b>データサイエンス寺子屋</b>\n",
    "\n",
    "<img src=\"https://github.com/datasci-terakoya/Python/blob/main/images/logo3_transparent_1100x750.png?raw=true\" alt=\"Terakoya logo\" width=\"400\">\n",
    "</p>\n",
    "\n",
    "<h1 style=\"text-align:center\">Python入門</h1>\n",
    "\n",
    "<h4 style=\"text-align:center\"> Jupyter Notebookの使い方 </h4>\n",
    "<hr style=\"height:5px;border:none\" />\n",
    "<p>"
   ]
  },
  {
   "cell_type": "markdown",
   "id": "12f073de",
   "metadata": {},
   "source": [
    "# Jupyter Notebookとは\n",
    "<hr style=\"height:1px;border:none\" />\n",
    "\n",
    "**Jupyter Notebook**は、ドキュメント内でPythonを実行できるインタラクティブな文書です。 プログラムで作成された出力とグラフィックスをブラウザー上で表示することができるため、プログラングの学習には理想的なツールです。Jupyter Notebookの文書には`.ipynb`の拡張子が付きます。Jupyter Notebookはプログラムとノートを一つの文書に収めることができるので筆者も重宝しています。この文書の下書きもJupyter Notebookで書かれています。"
   ]
  },
  {
   "cell_type": "markdown",
   "id": "f6aa0694",
   "metadata": {},
   "source": [
    "# Jupyer Notebookを起動する\n",
    "<hr style=\"height:1px;border:none\" />\n",
    "\n",
    "もうJupyer Notebookはインストール済みだと思いますが、もしそうでない場合はインストールの講義を参照ください。Anacondaを使用している場合は、Anaconda NavigatorからJupyter Notebookを起動できます。その他のPython環境の場合は、ターミナル（Mac）またはコマンドプロンプト（Windows）アプリを開く必要があります。次に、コマンドを入力します。\n",
    "```\n",
    "jupyter notebook\n",
    "```\n",
    "これにより、ウェブブラウザーが開き、次のようになります。\n",
    "\n",
    "<p style=\"text-align:center\">\n",
    "<img src=\"https://github.com/datasci-terakoya/Python/blob/main/images/Python_Jupyter_StartUp.png?raw=true\" alt=\"Python.org\" style=\"width: 600px;\"/>\n",
    "<i>Jupyter Notebook起動時のスクリーン</i>\n",
    "</p>\n",
    "<p>\n",
    "    \n",
    "新規にJupyter Notebookの文書を作成する場合は、右上の`New`のボタンを押し、プルダウンメニューからPython3を選択します。\n",
    "    \n",
    "<p style=\"text-align:center\">\n",
    "<img src=\"https://github.com/datasci-terakoya/Python/blob/main/images/Python_Jupyter_NewPulldown.png?raw=true\" alt=\"Python.org\" style=\"width: 600px;\"/>\n",
    "<i>プルダウンメニューからPython 3を選択</i>\n",
    "</p>\n",
    "<p>\n",
    "\n",
    "すると新規の文書`Untitled`が開きます。\n",
    "    \n",
    "<p style=\"text-align:center\">\n",
    "<img src=\"https://github.com/datasci-terakoya/Python/blob/main/images/Python_Jupyter_UntitledDoc.png?raw=true\" alt=\"Python.org\" style=\"width: 600px;\"/>\n",
    "<i>新規文書「Untitled」</i>\n",
    "</p>\n",
    "<p>\n",
    "\n",
    "文書の名前は、文書の題名`Untitled`をクリックして入力することが出来ます。\n",
    "    \n",
    "<p style=\"text-align:center\">\n",
    "<img src=\"https://github.com/datasci-terakoya/Python/blob/main/images/Python_Jupyter_RenameNotebook.png?raw=true\" alt=\"Python.org\" style=\"width: 600px;\"/>\n",
    "<i>文書の名前を設定</i>\n",
    "</p>\n",
    "<p>\n",
    "\n",
    "もし文書の名前と保存する場所も同時に指定したいのであれば、メニューの`File`から`Save as...`を選択し、詳細な保存場所を指定します。\n",
    "    \n",
    "<p style=\"text-align:center\">\n",
    "<img src=\"https://github.com/datasci-terakoya/Python/blob/main/images/Python_Jupyter_SaveAs.png?raw=true\" alt=\"Python.org\" style=\"width: 600px;\"/>\n",
    "<i>文書の名前と保存場所を設定</i>\n",
    "</p>\n",
    "<p>\n",
    "\n",
    "    \n",
    "もし既存のJupyter Notebookの文書を開く場合、ブラウザー内のファイルブラウザを使用して、目的の文書を見つけます。 次のようになります。 \n",
    "\n",
    "<p style=\"text-align:center\">\n",
    "<img src=\"https://github.com/datasci-terakoya/Python/blob/main/images/Python_Jupyter_OpeningDoc.png?raw=true\" alt=\"Python.org\" style=\"width: 600px;\"/>\n",
    "<i>既存のJupyter Notebook文書を開く</i>\n",
    "</p>\n",
    "<p>\n"
   ]
  },
  {
   "cell_type": "markdown",
   "id": "bd5ccba6",
   "metadata": {},
   "source": [
    "# プログラムの入力、実行\n",
    "<hr style=\"height:1px;border:none\" />\n",
    "\n",
    "## コードセル\n",
    "文書内には、その場で実行できるプログラムを組み込むことが出来ます。 **コードセル**(Code Cell)というものです。左マージンに`In []：`が付いたボックスがコードセルで、その中にプログラムを書くことが出来ます。 "
   ]
  },
  {
   "cell_type": "code",
   "execution_count": null,
   "id": "1128b84b",
   "metadata": {},
   "outputs": [],
   "source": [
    "print(\"Hello World!!\")\n",
    "yourName = \"出井田歳苑\"\n",
    "print(\"Hello \" + yourName + \"!!\")"
   ]
  }
 ],
 "metadata": {
  "kernelspec": {
   "display_name": "Python 3 (ipykernel)",
   "language": "python",
   "name": "python3"
  },
  "language_info": {
   "codemirror_mode": {
    "name": "ipython",
    "version": 3
   },
   "file_extension": ".py",
   "mimetype": "text/x-python",
   "name": "python",
   "nbconvert_exporter": "python",
   "pygments_lexer": "ipython3",
   "version": "3.8.10"
  }
 },
 "nbformat": 4,
 "nbformat_minor": 5
}
