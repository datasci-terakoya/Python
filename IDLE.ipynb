{
 "cells": [
  {
   "cell_type": "markdown",
   "id": "c21ee61e",
   "metadata": {},
   "source": [
    "<p style=\"text-align:center\">\n",
    "<b>データサイエンス寺子屋</b>\n",
    "\n",
    "<img src=\"images/logo_linkedin_banner_image_1.png\" alt=\"Terakoya logo\" width=\"400\">\n",
    "</p>\n",
    "\n",
    "<h1 style=\"text-align:center\">Python入門</h1>\n",
    "\n",
    "<h4 style=\"text-align:center\"> IDLEの使い方 </h4>\n",
    "<hr style=\"height:5px;border:none\" />\n",
    "<p>"
   ]
  },
  {
   "cell_type": "code",
   "execution_count": null,
   "id": "f730fd9f",
   "metadata": {},
   "outputs": [],
   "source": []
  }
 ],
 "metadata": {
  "kernelspec": {
   "display_name": "Python 3 (ipykernel)",
   "language": "python",
   "name": "python3"
  },
  "language_info": {
   "codemirror_mode": {
    "name": "ipython",
    "version": 3
   },
   "file_extension": ".py",
   "mimetype": "text/x-python",
   "name": "python",
   "nbconvert_exporter": "python",
   "pygments_lexer": "ipython3",
   "version": "3.8.10"
  }
 },
 "nbformat": 4,
 "nbformat_minor": 5
}
