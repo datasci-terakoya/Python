{
 "cells": [
  {
   "cell_type": "markdown",
   "id": "c21ee61e",
   "metadata": {},
   "source": [
    "<p style=\"text-align:center\">\n",
    "<b>データサイエンス寺子屋</b>\n",
    "\n",
    "<img src=\"https://github.com/datasci-terakoya/Python/blob/main/images/logo2_1100x750.png?raw=true\" alt=\"Terakoya logo\" width=\"400\">\n",
    "</p>\n",
    "\n",
    "<h1 style=\"text-align:center\">Python入門</h1>\n",
    "\n",
    "<h4 style=\"text-align:center\"> IDLEの使い方 </h4>\n",
    "<hr style=\"height:5px;border:none\" />\n",
    "<p>"
   ]
  },
  {
   "cell_type": "markdown",
   "id": "fd1a51ff",
   "metadata": {},
   "source": [
    "# 0. 概要\n",
    "<hr style=\"height:1px;border:none\" />"
   ]
  },
  {
   "cell_type": "markdown",
   "id": "8d0f9ddc",
   "metadata": {},
   "source": [
    "## Python Shellの使い方\n",
    "## File Editorの使い方"
   ]
  }
 ],
 "metadata": {
  "kernelspec": {
   "display_name": "Python 3 (ipykernel)",
   "language": "python",
   "name": "python3"
  },
  "language_info": {
   "codemirror_mode": {
    "name": "ipython",
    "version": 3
   },
   "file_extension": ".py",
   "mimetype": "text/x-python",
   "name": "python",
   "nbconvert_exporter": "python",
   "pygments_lexer": "ipython3",
   "version": "3.8.10"
  }
 },
 "nbformat": 4,
 "nbformat_minor": 5
}
