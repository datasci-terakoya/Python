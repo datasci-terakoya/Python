{
 "cells": [
  {
   "cell_type": "markdown",
   "id": "c21ee61e",
   "metadata": {},
   "source": [
    "<p style=\"text-align:center\">\n",
    "<b>データサイエンス寺子屋</b>\n",
    "\n",
    "<img src=\"https://github.com/datasci-terakoya/Python/blob/main/images/logo3_transparent_1100x750.png?raw=true\" alt=\"Terakoya logo\" width=\"400\">\n",
    "</p>\n",
    "\n",
    "<h1 style=\"text-align:center\">Python入門</h1>\n",
    "\n",
    "<h4 style=\"text-align:center\"> IDLEの使い方 </h4>\n",
    "<hr style=\"height:5px;border:none\" />\n",
    "<p>"
   ]
  },
  {
   "cell_type": "markdown",
   "id": "fd1a51ff",
   "metadata": {},
   "source": [
    "# Python IDLEについて\n",
    "<hr style=\"height:1px;border:none\" />"
   ]
  },
  {
   "cell_type": "markdown",
   "id": "d23b68f6",
   "metadata": {},
   "source": [
    "もうPython IDLEはインストール済みだと思いますが、まだの場合はインストールの講義を参照ください。\n",
    "\n",
    "Python IDLEにはPythonと会話をするための***シェル***、プログラムの作成・編集に使う***エディター***があります。今回はその使い方について学びます。"
   ]
  },
  {
   "cell_type": "markdown",
   "id": "f3c43464",
   "metadata": {},
   "source": [
    "# Pythonシェルの使い方\n",
    "<hr style=\"height:1px;border:none\" />"
   ]
  },
  {
   "cell_type": "markdown",
   "id": "23e11d91",
   "metadata": {},
   "source": [
    "Python IDLEを起動すると、このようなウインドウが出てきます。これがPythonシェルです。\n",
    "\n",
    "<p style=\"text-align:center\">\n",
    "<img src=\"https://github.com/datasci-terakoya/Python/blob/main/images/Python_Install_IDLE.png?raw=true\" alt=\"Python.org\" style=\"width: 600px;\"/>\n",
    "<i>Python IDLE起動時のスクリーン</i>\n",
    "</p>\n",
    "<p>\n",
    "\n",
    "ここでプロンプト（`>>>`）のところにコマンド（命令）を書いて実行してみます。では試しに\n",
    "```\n",
    "print('Hello World!')\n",
    "```\n",
    "と書いてEnterキーを押します。すると`Hello World!`が表示されました。実行後はまたプロンプトが表示され次のコマンドまで待機しています。\n",
    "\n",
    "<p style=\"text-align:center\">\n",
    "<img src=\"https://github.com/datasci-terakoya/Python/blob/main/images/Python_IDLE_HelloWorld.png?raw=true\" alt=\"Python.org\" style=\"width: 500px;\"/>\n",
    "<i>Hello World!を表示</i>\n",
    "</p>\n",
    "<p>\n",
    "\n",
    "もうお分かりかもしれませんが、このコマンドはクオーテーションマーク内の文章を表示するものです。では次はこの２つのコマンドを一行づつ実行してみます。\n",
    "```\n",
    "print('What is your name?')\n",
    "name = input()\n",
    "```\n",
    "一行目のコマンドは`What is your name?`を表示します。二行目のコマンドを実行すると、おや？なんの反応も示しません。実はこのコマンド、ユーザーからのキーボードからの入力待ちをしているのです。その一行下でカーソルが点滅しているのが見えます。ここでキーボードから自分の名前を入力します。筆者は自分の名前を入力、そしてEnterキーを押します。するとまたプロンプトが表示されました。\n",
    "    \n",
    "<p style=\"text-align:center\">\n",
    "<img src=\"https://github.com/datasci-terakoya/Python/blob/main/images/Python_IDLE_WhatIsYourName.png?raw=true\" alt=\"Python.org\" style=\"width: 500px;\"/>\n",
    "<i>名前をキーボードから入力</i>\n",
    "</p>\n",
    "<p>\n",
    "\n",
    "入力された名前は変数`name`に保存されていて、後で使うことが可能です。では今度はこのコマンドを実行してみましょう。\n",
    "```\n",
    "print('Hello ' + name)\n",
    "```\n",
    "すると`Hello 出井田歳苑`と表示されました。ここでは変数`name`に保存されている名前が表示されたからです。\n",
    "\n",
    "<p style=\"text-align:center\">\n",
    "<img src=\"https://github.com/datasci-terakoya/Python/blob/main/images/Python_IDLE_PrintName.png?raw=true\" alt=\"Python.org\" style=\"width: 500px;\"/>\n",
    "<i>名前の表示</i>\n",
    "</p>\n",
    "<p>\n"
   ]
  },
  {
   "cell_type": "markdown",
   "id": "6154c698",
   "metadata": {},
   "source": [
    "# Pythonエディターの使い方\n",
    "<hr style=\"height:1px;border:none\" />"
   ]
  },
  {
   "cell_type": "markdown",
   "id": "7ab06d6b",
   "metadata": {},
   "source": [
    "Pythonのコマンドをシェル上で実行することができるのですが、何行にもわたるコマンドを一行づつ書くのは煩わしい作業です。それにもし後で何かを変更すると（例えば変数の名前）その都度一行づつ再実行することになります。ですので、何行にもわたるコマンドはプログラムとしてファイルに保存します。こうすると、後日追加・編集が容易に可能です。"
   ]
  },
  {
   "cell_type": "markdown",
   "id": "f897c230",
   "metadata": {},
   "source": [
    "## プログラムの新規作成\n",
    "\n",
    "Pythonエディターは言ってみればプログラムを書くためのワードプロセッサーです。では早速使い方を見てみましょう。Pythonシェルの**`File`**を選択し、**`New File`**を選択します。つまりファイルの新規作成です。するとPythonエディターのウインドウが起動されます。\n",
    "\n",
    "<p style=\"text-align:center\">\n",
    "<img src=\"https://github.com/datasci-terakoya/Python/blob/main/images/Python_IDLE_EditorStartUp.png?raw=true\" alt=\"Python.org\" style=\"width: 600px;\"/>\n",
    "<i>エディター起動時の画面</i>\n",
    "</p>\n",
    "<p>\n",
    "\n",
    "後はエディター上でPythonのコマンドを書いていきます。先程実行した４行のコマンドを書いてみます。\n",
    "    \n",
    "<p style=\"text-align:center\">\n",
    "<img src=\"https://github.com/datasci-terakoya/Python/blob/main/images/Python_IDLE_EditorFirstProgram.png?raw=true\" alt=\"Python.org\" style=\"width: 350px;\"/>\n",
    "<i>複数行にわたるPythonのコマンド</i>\n",
    "</p>\n",
    "<p>\n",
    "\n",
    "書き終わったらエディター上のメニューから**`File`**そして**`Save`**を選択します。保存する場所のフォルダーを選び、ファイル名を指定します。Pythonプログラムを表す**`.py`**の拡張子をつけて保存します。\n",
    "\n",
    "<p style=\"text-align:center\">\n",
    "<img src=\"https://github.com/datasci-terakoya/Python/blob/main/images/Python_IDLE_SaveFile.png?raw=true\" alt=\"Python.org\" style=\"width: 500px;\"/>\n",
    "<i>ファイルの保存場所、ファイル名の設定</i>\n",
    "</p>\n",
    "<p>\n",
    "\n",
    "このようにPythonのコマンドの文書を***プログラム***と呼びます。\n",
    "    "
   ]
  },
  {
   "cell_type": "markdown",
   "id": "6416602b",
   "metadata": {},
   "source": [
    "## プログラムの実行\n",
    "\n",
    "プログラムを実行すると、その中に書かれているすべてのコマンドが順番に実行されます。プログラムを実行するときはエディターのメニューから**`Run`**、そして**`Run Module`**を選択します。すると実行の過程がシェル上に表示されます。\n",
    "    \n",
    "<p style=\"text-align:center\">\n",
    "<img src=\"https://github.com/datasci-terakoya/Python/blob/main/images/Python_IDLE_RunFromEditor.png?raw=true\" alt=\"Python.org\" style=\"width: 600px;\"/>\n",
    "<i>エディターからプログラムを実行。実行の過程はシェル上に表示</i>\n",
    "</p>\n",
    "<p>\n",
    "\n",
    "ユーザーがキーボードから名前を入力するのですが、カーソルが`What is your name?`の次の行に出ていない場合は、シェル内でクリックしてカーソルをそこに移動しなければなりません。"
   ]
  },
  {
   "cell_type": "markdown",
   "id": "9b562132",
   "metadata": {},
   "source": [
    "## プログラムの編集\n",
    "    \n",
    "このように一度プログラムを書くと、あとで編集するのも簡単です。例えばこのプログラム、`Hello`を`Goodbye`に書き換えてみましょう。\n",
    "    \n",
    "<p style=\"text-align:center\">\n",
    "<img src=\"https://github.com/datasci-terakoya/Python/blob/main/images/Python_IDLE_EditProgram.png?raw=true\" alt=\"Python.org\" style=\"width: 400px;\"/>\n",
    "<i>プログラムを編集。`Hello`を`Goodbye`に書き換え。</i>\n",
    "</p>\n",
    "<p>\n",
    "\n",
    "修正したプログラムを実行するときは、以前と同じように**`Run`**、そして**`Run Module`**です。もし修正したプログラムが保存されていない場合は、保存するようにメッセージが表示されその後に実行されます。\n",
    "    \n",
    "<p style=\"text-align:center\">\n",
    "<img src=\"https://github.com/datasci-terakoya/Python/blob/main/images/Python_IDLE_RunAfterEdit.png?raw=true\" alt=\"Python.org\" style=\"width: 600px;\"/>\n",
    "<i>プログラムを編集後に実行。</i>\n",
    "</p>\n",
    "<p>\n"
   ]
  },
  {
   "cell_type": "markdown",
   "id": "605b72b0",
   "metadata": {},
   "source": [
    "## 既存のプログラムの編集・実行\n",
    "\n",
    "新規でなくても既存のプログラムも編集、実行が可能です。Pythonシェルのメニューから**`File`**そして**`Open`**を選択し、開きたいプログラムのファイルを選択します。後は上記の編集、実行の手順に従います。"
   ]
  }
 ],
 "metadata": {
  "kernelspec": {
   "display_name": "Python 3 (ipykernel)",
   "language": "python",
   "name": "python3"
  },
  "language_info": {
   "codemirror_mode": {
    "name": "ipython",
    "version": 3
   },
   "file_extension": ".py",
   "mimetype": "text/x-python",
   "name": "python",
   "nbconvert_exporter": "python",
   "pygments_lexer": "ipython3",
   "version": "3.8.10"
  }
 },
 "nbformat": 4,
 "nbformat_minor": 5
}
